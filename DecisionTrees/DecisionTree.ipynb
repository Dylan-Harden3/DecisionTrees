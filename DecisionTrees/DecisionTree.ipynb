{
  "nbformat": 4,
  "nbformat_minor": 0,
  "metadata": {
    "colab": {
      "provenance": []
    },
    "kernelspec": {
      "name": "python3",
      "display_name": "Python 3"
    },
    "language_info": {
      "name": "python"
    }
  },
  "cells": [
    {
      "cell_type": "markdown",
      "source": [
        "First lets see what the data looks like"
      ],
      "metadata": {
        "id": "-ln_Qdt3sj-R"
      }
    },
    {
      "cell_type": "code",
      "execution_count": 10,
      "metadata": {
        "colab": {
          "base_uri": "https://localhost:8080/",
          "height": 243
        },
        "id": "54d1P3rxr6Ci",
        "outputId": "ad507009-916d-42f4-da64-c363e29db5aa"
      },
      "outputs": [
        {
          "output_type": "execute_result",
          "data": {
            "text/plain": [
              "   Unnamed: 0   Loan_ID Gender Married Dependents Education Self_Employed  \\\n",
              "0           0  LP001518   Male     Yes          1  Graduate            No   \n",
              "1           1  LP002734   Male     Yes          0  Graduate            No   \n",
              "2           2  LP002697   Male      No          0  Graduate            No   \n",
              "3           3  LP002455   Male     Yes          2  Graduate            No   \n",
              "4           4  LP001732   Male     Yes          2  Graduate           NaN   \n",
              "\n",
              "   ApplicantIncome  CoapplicantIncome  LoanAmount  Loan_Amount_Term  \\\n",
              "0             1538             1425.0        30.0             360.0   \n",
              "1             6133             3906.0       324.0             360.0   \n",
              "2             4680             2087.0         NaN             360.0   \n",
              "3             3859                0.0        96.0             360.0   \n",
              "4             5000                0.0        72.0             360.0   \n",
              "\n",
              "   Credit_History Property_Area Loan_Status  \n",
              "0             1.0         Urban           Y  \n",
              "1             1.0         Urban           Y  \n",
              "2             1.0     Semiurban           N  \n",
              "3             1.0     Semiurban           Y  \n",
              "4             0.0     Semiurban           N  "
            ],
            "text/html": [
              "\n",
              "  <div id=\"df-1bc9bf4b-7103-413b-9a3a-294e9fce6308\" class=\"colab-df-container\">\n",
              "    <div>\n",
              "<style scoped>\n",
              "    .dataframe tbody tr th:only-of-type {\n",
              "        vertical-align: middle;\n",
              "    }\n",
              "\n",
              "    .dataframe tbody tr th {\n",
              "        vertical-align: top;\n",
              "    }\n",
              "\n",
              "    .dataframe thead th {\n",
              "        text-align: right;\n",
              "    }\n",
              "</style>\n",
              "<table border=\"1\" class=\"dataframe\">\n",
              "  <thead>\n",
              "    <tr style=\"text-align: right;\">\n",
              "      <th></th>\n",
              "      <th>Unnamed: 0</th>\n",
              "      <th>Loan_ID</th>\n",
              "      <th>Gender</th>\n",
              "      <th>Married</th>\n",
              "      <th>Dependents</th>\n",
              "      <th>Education</th>\n",
              "      <th>Self_Employed</th>\n",
              "      <th>ApplicantIncome</th>\n",
              "      <th>CoapplicantIncome</th>\n",
              "      <th>LoanAmount</th>\n",
              "      <th>Loan_Amount_Term</th>\n",
              "      <th>Credit_History</th>\n",
              "      <th>Property_Area</th>\n",
              "      <th>Loan_Status</th>\n",
              "    </tr>\n",
              "  </thead>\n",
              "  <tbody>\n",
              "    <tr>\n",
              "      <th>0</th>\n",
              "      <td>0</td>\n",
              "      <td>LP001518</td>\n",
              "      <td>Male</td>\n",
              "      <td>Yes</td>\n",
              "      <td>1</td>\n",
              "      <td>Graduate</td>\n",
              "      <td>No</td>\n",
              "      <td>1538</td>\n",
              "      <td>1425.0</td>\n",
              "      <td>30.0</td>\n",
              "      <td>360.0</td>\n",
              "      <td>1.0</td>\n",
              "      <td>Urban</td>\n",
              "      <td>Y</td>\n",
              "    </tr>\n",
              "    <tr>\n",
              "      <th>1</th>\n",
              "      <td>1</td>\n",
              "      <td>LP002734</td>\n",
              "      <td>Male</td>\n",
              "      <td>Yes</td>\n",
              "      <td>0</td>\n",
              "      <td>Graduate</td>\n",
              "      <td>No</td>\n",
              "      <td>6133</td>\n",
              "      <td>3906.0</td>\n",
              "      <td>324.0</td>\n",
              "      <td>360.0</td>\n",
              "      <td>1.0</td>\n",
              "      <td>Urban</td>\n",
              "      <td>Y</td>\n",
              "    </tr>\n",
              "    <tr>\n",
              "      <th>2</th>\n",
              "      <td>2</td>\n",
              "      <td>LP002697</td>\n",
              "      <td>Male</td>\n",
              "      <td>No</td>\n",
              "      <td>0</td>\n",
              "      <td>Graduate</td>\n",
              "      <td>No</td>\n",
              "      <td>4680</td>\n",
              "      <td>2087.0</td>\n",
              "      <td>NaN</td>\n",
              "      <td>360.0</td>\n",
              "      <td>1.0</td>\n",
              "      <td>Semiurban</td>\n",
              "      <td>N</td>\n",
              "    </tr>\n",
              "    <tr>\n",
              "      <th>3</th>\n",
              "      <td>3</td>\n",
              "      <td>LP002455</td>\n",
              "      <td>Male</td>\n",
              "      <td>Yes</td>\n",
              "      <td>2</td>\n",
              "      <td>Graduate</td>\n",
              "      <td>No</td>\n",
              "      <td>3859</td>\n",
              "      <td>0.0</td>\n",
              "      <td>96.0</td>\n",
              "      <td>360.0</td>\n",
              "      <td>1.0</td>\n",
              "      <td>Semiurban</td>\n",
              "      <td>Y</td>\n",
              "    </tr>\n",
              "    <tr>\n",
              "      <th>4</th>\n",
              "      <td>4</td>\n",
              "      <td>LP001732</td>\n",
              "      <td>Male</td>\n",
              "      <td>Yes</td>\n",
              "      <td>2</td>\n",
              "      <td>Graduate</td>\n",
              "      <td>NaN</td>\n",
              "      <td>5000</td>\n",
              "      <td>0.0</td>\n",
              "      <td>72.0</td>\n",
              "      <td>360.0</td>\n",
              "      <td>0.0</td>\n",
              "      <td>Semiurban</td>\n",
              "      <td>N</td>\n",
              "    </tr>\n",
              "  </tbody>\n",
              "</table>\n",
              "</div>\n",
              "    <div class=\"colab-df-buttons\">\n",
              "\n",
              "  <div class=\"colab-df-container\">\n",
              "    <button class=\"colab-df-convert\" onclick=\"convertToInteractive('df-1bc9bf4b-7103-413b-9a3a-294e9fce6308')\"\n",
              "            title=\"Convert this dataframe to an interactive table.\"\n",
              "            style=\"display:none;\">\n",
              "\n",
              "  <svg xmlns=\"http://www.w3.org/2000/svg\" height=\"24px\" viewBox=\"0 -960 960 960\">\n",
              "    <path d=\"M120-120v-720h720v720H120Zm60-500h600v-160H180v160Zm220 220h160v-160H400v160Zm0 220h160v-160H400v160ZM180-400h160v-160H180v160Zm440 0h160v-160H620v160ZM180-180h160v-160H180v160Zm440 0h160v-160H620v160Z\"/>\n",
              "  </svg>\n",
              "    </button>\n",
              "\n",
              "  <style>\n",
              "    .colab-df-container {\n",
              "      display:flex;\n",
              "      gap: 12px;\n",
              "    }\n",
              "\n",
              "    .colab-df-convert {\n",
              "      background-color: #E8F0FE;\n",
              "      border: none;\n",
              "      border-radius: 50%;\n",
              "      cursor: pointer;\n",
              "      display: none;\n",
              "      fill: #1967D2;\n",
              "      height: 32px;\n",
              "      padding: 0 0 0 0;\n",
              "      width: 32px;\n",
              "    }\n",
              "\n",
              "    .colab-df-convert:hover {\n",
              "      background-color: #E2EBFA;\n",
              "      box-shadow: 0px 1px 2px rgba(60, 64, 67, 0.3), 0px 1px 3px 1px rgba(60, 64, 67, 0.15);\n",
              "      fill: #174EA6;\n",
              "    }\n",
              "\n",
              "    .colab-df-buttons div {\n",
              "      margin-bottom: 4px;\n",
              "    }\n",
              "\n",
              "    [theme=dark] .colab-df-convert {\n",
              "      background-color: #3B4455;\n",
              "      fill: #D2E3FC;\n",
              "    }\n",
              "\n",
              "    [theme=dark] .colab-df-convert:hover {\n",
              "      background-color: #434B5C;\n",
              "      box-shadow: 0px 1px 3px 1px rgba(0, 0, 0, 0.15);\n",
              "      filter: drop-shadow(0px 1px 2px rgba(0, 0, 0, 0.3));\n",
              "      fill: #FFFFFF;\n",
              "    }\n",
              "  </style>\n",
              "\n",
              "    <script>\n",
              "      const buttonEl =\n",
              "        document.querySelector('#df-1bc9bf4b-7103-413b-9a3a-294e9fce6308 button.colab-df-convert');\n",
              "      buttonEl.style.display =\n",
              "        google.colab.kernel.accessAllowed ? 'block' : 'none';\n",
              "\n",
              "      async function convertToInteractive(key) {\n",
              "        const element = document.querySelector('#df-1bc9bf4b-7103-413b-9a3a-294e9fce6308');\n",
              "        const dataTable =\n",
              "          await google.colab.kernel.invokeFunction('convertToInteractive',\n",
              "                                                    [key], {});\n",
              "        if (!dataTable) return;\n",
              "\n",
              "        const docLinkHtml = 'Like what you see? Visit the ' +\n",
              "          '<a target=\"_blank\" href=https://colab.research.google.com/notebooks/data_table.ipynb>data table notebook</a>'\n",
              "          + ' to learn more about interactive tables.';\n",
              "        element.innerHTML = '';\n",
              "        dataTable['output_type'] = 'display_data';\n",
              "        await google.colab.output.renderOutput(dataTable, element);\n",
              "        const docLink = document.createElement('div');\n",
              "        docLink.innerHTML = docLinkHtml;\n",
              "        element.appendChild(docLink);\n",
              "      }\n",
              "    </script>\n",
              "  </div>\n",
              "\n",
              "\n",
              "<div id=\"df-f934e735-ba43-4238-8664-45d0cb801257\">\n",
              "  <button class=\"colab-df-quickchart\" onclick=\"quickchart('df-f934e735-ba43-4238-8664-45d0cb801257')\"\n",
              "            title=\"Suggest charts\"\n",
              "            style=\"display:none;\">\n",
              "\n",
              "<svg xmlns=\"http://www.w3.org/2000/svg\" height=\"24px\"viewBox=\"0 0 24 24\"\n",
              "     width=\"24px\">\n",
              "    <g>\n",
              "        <path d=\"M19 3H5c-1.1 0-2 .9-2 2v14c0 1.1.9 2 2 2h14c1.1 0 2-.9 2-2V5c0-1.1-.9-2-2-2zM9 17H7v-7h2v7zm4 0h-2V7h2v10zm4 0h-2v-4h2v4z\"/>\n",
              "    </g>\n",
              "</svg>\n",
              "  </button>\n",
              "\n",
              "<style>\n",
              "  .colab-df-quickchart {\n",
              "      --bg-color: #E8F0FE;\n",
              "      --fill-color: #1967D2;\n",
              "      --hover-bg-color: #E2EBFA;\n",
              "      --hover-fill-color: #174EA6;\n",
              "      --disabled-fill-color: #AAA;\n",
              "      --disabled-bg-color: #DDD;\n",
              "  }\n",
              "\n",
              "  [theme=dark] .colab-df-quickchart {\n",
              "      --bg-color: #3B4455;\n",
              "      --fill-color: #D2E3FC;\n",
              "      --hover-bg-color: #434B5C;\n",
              "      --hover-fill-color: #FFFFFF;\n",
              "      --disabled-bg-color: #3B4455;\n",
              "      --disabled-fill-color: #666;\n",
              "  }\n",
              "\n",
              "  .colab-df-quickchart {\n",
              "    background-color: var(--bg-color);\n",
              "    border: none;\n",
              "    border-radius: 50%;\n",
              "    cursor: pointer;\n",
              "    display: none;\n",
              "    fill: var(--fill-color);\n",
              "    height: 32px;\n",
              "    padding: 0;\n",
              "    width: 32px;\n",
              "  }\n",
              "\n",
              "  .colab-df-quickchart:hover {\n",
              "    background-color: var(--hover-bg-color);\n",
              "    box-shadow: 0 1px 2px rgba(60, 64, 67, 0.3), 0 1px 3px 1px rgba(60, 64, 67, 0.15);\n",
              "    fill: var(--button-hover-fill-color);\n",
              "  }\n",
              "\n",
              "  .colab-df-quickchart-complete:disabled,\n",
              "  .colab-df-quickchart-complete:disabled:hover {\n",
              "    background-color: var(--disabled-bg-color);\n",
              "    fill: var(--disabled-fill-color);\n",
              "    box-shadow: none;\n",
              "  }\n",
              "\n",
              "  .colab-df-spinner {\n",
              "    border: 2px solid var(--fill-color);\n",
              "    border-color: transparent;\n",
              "    border-bottom-color: var(--fill-color);\n",
              "    animation:\n",
              "      spin 1s steps(1) infinite;\n",
              "  }\n",
              "\n",
              "  @keyframes spin {\n",
              "    0% {\n",
              "      border-color: transparent;\n",
              "      border-bottom-color: var(--fill-color);\n",
              "      border-left-color: var(--fill-color);\n",
              "    }\n",
              "    20% {\n",
              "      border-color: transparent;\n",
              "      border-left-color: var(--fill-color);\n",
              "      border-top-color: var(--fill-color);\n",
              "    }\n",
              "    30% {\n",
              "      border-color: transparent;\n",
              "      border-left-color: var(--fill-color);\n",
              "      border-top-color: var(--fill-color);\n",
              "      border-right-color: var(--fill-color);\n",
              "    }\n",
              "    40% {\n",
              "      border-color: transparent;\n",
              "      border-right-color: var(--fill-color);\n",
              "      border-top-color: var(--fill-color);\n",
              "    }\n",
              "    60% {\n",
              "      border-color: transparent;\n",
              "      border-right-color: var(--fill-color);\n",
              "    }\n",
              "    80% {\n",
              "      border-color: transparent;\n",
              "      border-right-color: var(--fill-color);\n",
              "      border-bottom-color: var(--fill-color);\n",
              "    }\n",
              "    90% {\n",
              "      border-color: transparent;\n",
              "      border-bottom-color: var(--fill-color);\n",
              "    }\n",
              "  }\n",
              "</style>\n",
              "\n",
              "  <script>\n",
              "    async function quickchart(key) {\n",
              "      const quickchartButtonEl =\n",
              "        document.querySelector('#' + key + ' button');\n",
              "      quickchartButtonEl.disabled = true;  // To prevent multiple clicks.\n",
              "      quickchartButtonEl.classList.add('colab-df-spinner');\n",
              "      try {\n",
              "        const charts = await google.colab.kernel.invokeFunction(\n",
              "            'suggestCharts', [key], {});\n",
              "      } catch (error) {\n",
              "        console.error('Error during call to suggestCharts:', error);\n",
              "      }\n",
              "      quickchartButtonEl.classList.remove('colab-df-spinner');\n",
              "      quickchartButtonEl.classList.add('colab-df-quickchart-complete');\n",
              "    }\n",
              "    (() => {\n",
              "      let quickchartButtonEl =\n",
              "        document.querySelector('#df-f934e735-ba43-4238-8664-45d0cb801257 button');\n",
              "      quickchartButtonEl.style.display =\n",
              "        google.colab.kernel.accessAllowed ? 'block' : 'none';\n",
              "    })();\n",
              "  </script>\n",
              "</div>\n",
              "\n",
              "    </div>\n",
              "  </div>\n"
            ],
            "application/vnd.google.colaboratory.intrinsic+json": {
              "type": "dataframe",
              "variable_name": "train_df",
              "summary": "{\n  \"name\": \"train_df\",\n  \"rows\": 491,\n  \"fields\": [\n    {\n      \"column\": \"Unnamed: 0\",\n      \"properties\": {\n        \"dtype\": \"number\",\n        \"std\": 141,\n        \"min\": 0,\n        \"max\": 490,\n        \"num_unique_values\": 491,\n        \"samples\": [\n          452,\n          84,\n          434\n        ],\n        \"semantic_type\": \"\",\n        \"description\": \"\"\n      }\n    },\n    {\n      \"column\": \"Loan_ID\",\n      \"properties\": {\n        \"dtype\": \"string\",\n        \"num_unique_values\": 491,\n        \"samples\": [\n          \"LP001846\",\n          \"LP001469\",\n          \"LP001003\"\n        ],\n        \"semantic_type\": \"\",\n        \"description\": \"\"\n      }\n    },\n    {\n      \"column\": \"Gender\",\n      \"properties\": {\n        \"dtype\": \"category\",\n        \"num_unique_values\": 2,\n        \"samples\": [\n          \"Female\",\n          \"Male\"\n        ],\n        \"semantic_type\": \"\",\n        \"description\": \"\"\n      }\n    },\n    {\n      \"column\": \"Married\",\n      \"properties\": {\n        \"dtype\": \"category\",\n        \"num_unique_values\": 2,\n        \"samples\": [\n          \"No\",\n          \"Yes\"\n        ],\n        \"semantic_type\": \"\",\n        \"description\": \"\"\n      }\n    },\n    {\n      \"column\": \"Dependents\",\n      \"properties\": {\n        \"dtype\": \"category\",\n        \"num_unique_values\": 4,\n        \"samples\": [\n          \"0\",\n          \"3+\"\n        ],\n        \"semantic_type\": \"\",\n        \"description\": \"\"\n      }\n    },\n    {\n      \"column\": \"Education\",\n      \"properties\": {\n        \"dtype\": \"category\",\n        \"num_unique_values\": 2,\n        \"samples\": [\n          \"Not Graduate\",\n          \"Graduate\"\n        ],\n        \"semantic_type\": \"\",\n        \"description\": \"\"\n      }\n    },\n    {\n      \"column\": \"Self_Employed\",\n      \"properties\": {\n        \"dtype\": \"category\",\n        \"num_unique_values\": 2,\n        \"samples\": [\n          \"Yes\",\n          \"No\"\n        ],\n        \"semantic_type\": \"\",\n        \"description\": \"\"\n      }\n    },\n    {\n      \"column\": \"ApplicantIncome\",\n      \"properties\": {\n        \"dtype\": \"number\",\n        \"std\": 6379,\n        \"min\": 150,\n        \"max\": 81000,\n        \"num_unique_values\": 408,\n        \"samples\": [\n          63337,\n          2499\n        ],\n        \"semantic_type\": \"\",\n        \"description\": \"\"\n      }\n    },\n    {\n      \"column\": \"CoapplicantIncome\",\n      \"properties\": {\n        \"dtype\": \"number\",\n        \"std\": 3173.6177244956275,\n        \"min\": 0.0,\n        \"max\": 41667.0,\n        \"num_unique_values\": 234,\n        \"samples\": [\n          3000.0,\n          484.0\n        ],\n        \"semantic_type\": \"\",\n        \"description\": \"\"\n      }\n    },\n    {\n      \"column\": \"LoanAmount\",\n      \"properties\": {\n        \"dtype\": \"number\",\n        \"std\": 85.87023936695627,\n        \"min\": 9.0,\n        \"max\": 700.0,\n        \"num_unique_values\": 182,\n        \"samples\": [\n          58.0,\n          125.0\n        ],\n        \"semantic_type\": \"\",\n        \"description\": \"\"\n      }\n    },\n    {\n      \"column\": \"Loan_Amount_Term\",\n      \"properties\": {\n        \"dtype\": \"number\",\n        \"std\": 64.06636198335141,\n        \"min\": 12.0,\n        \"max\": 480.0,\n        \"num_unique_values\": 10,\n        \"samples\": [\n          12.0,\n          300.0\n        ],\n        \"semantic_type\": \"\",\n        \"description\": \"\"\n      }\n    },\n    {\n      \"column\": \"Credit_History\",\n      \"properties\": {\n        \"dtype\": \"number\",\n        \"std\": 0.3570319818305584,\n        \"min\": 0.0,\n        \"max\": 1.0,\n        \"num_unique_values\": 2,\n        \"samples\": [\n          0.0,\n          1.0\n        ],\n        \"semantic_type\": \"\",\n        \"description\": \"\"\n      }\n    },\n    {\n      \"column\": \"Property_Area\",\n      \"properties\": {\n        \"dtype\": \"category\",\n        \"num_unique_values\": 3,\n        \"samples\": [\n          \"Urban\",\n          \"Semiurban\"\n        ],\n        \"semantic_type\": \"\",\n        \"description\": \"\"\n      }\n    },\n    {\n      \"column\": \"Loan_Status\",\n      \"properties\": {\n        \"dtype\": \"category\",\n        \"num_unique_values\": 2,\n        \"samples\": [\n          \"N\",\n          \"Y\"\n        ],\n        \"semantic_type\": \"\",\n        \"description\": \"\"\n      }\n    }\n  ]\n}"
            }
          },
          "metadata": {},
          "execution_count": 10
        }
      ],
      "source": [
        "import pandas as pd\n",
        "\n",
        "train_df = pd.read_csv('data_train-1.csv')\n",
        "train_df.head()"
      ]
    },
    {
      "cell_type": "markdown",
      "source": [
        "It looks like we have 12 features for different people who took out loans along with whether or not they defaulted"
      ],
      "metadata": {
        "id": "LkW6cR19stQE"
      }
    },
    {
      "cell_type": "code",
      "source": [
        "train_df.dropna(inplace=True)\n",
        "\n",
        "train_df.shape"
      ],
      "metadata": {
        "colab": {
          "base_uri": "https://localhost:8080/"
        },
        "id": "pd9wyhzhstw6",
        "outputId": "6566a102-db82-4077-b13e-edbc103b88de"
      },
      "execution_count": 11,
      "outputs": [
        {
          "output_type": "execute_result",
          "data": {
            "text/plain": [
              "(373, 14)"
            ]
          },
          "metadata": {},
          "execution_count": 11
        }
      ]
    },
    {
      "cell_type": "markdown",
      "source": [
        "After removing null values we are left with 373 training examples. Now lets partition into train and validation datasets."
      ],
      "metadata": {
        "id": "_0LTT9rVszAR"
      }
    },
    {
      "cell_type": "code",
      "source": [
        "from sklearn.model_selection import train_test_split\n",
        "\n",
        "train_df = train_df.drop(train_df.columns[:2], axis=1)\n",
        "\n",
        "train_features_df = train_df.drop(\"Loan_Status\", axis=1)\n",
        "train_labels_df = train_df[\"Loan_Status\"]\n",
        "\n",
        "train_features, validation_features, train_labels, validation_labels = train_test_split(train_features_df, train_labels_df, test_size=0.2)\n",
        "print(train_features.shape)\n",
        "print(validation_features.shape)"
      ],
      "metadata": {
        "colab": {
          "base_uri": "https://localhost:8080/"
        },
        "id": "Aq_782qys9F9",
        "outputId": "9b0e5670-eab4-40dc-c7dd-a494613d1e5d"
      },
      "execution_count": 12,
      "outputs": [
        {
          "output_type": "stream",
          "name": "stdout",
          "text": [
            "(298, 11)\n",
            "(75, 11)\n"
          ]
        }
      ]
    },
    {
      "cell_type": "markdown",
      "source": [
        "Lets explore what these values these features have."
      ],
      "metadata": {
        "id": "zscY5ISftNKR"
      }
    },
    {
      "cell_type": "code",
      "source": [
        "import matplotlib.pyplot as plt\n",
        "train_features_df.hist(figsize=(10, 10))\n",
        "plt.show()"
      ],
      "metadata": {
        "colab": {
          "base_uri": "https://localhost:8080/",
          "height": 853
        },
        "id": "u0rf4VO4tRPD",
        "outputId": "81d4c42f-8ba4-4b74-cc3a-297b984b2ee3"
      },
      "execution_count": 13,
      "outputs": [
        {
          "output_type": "display_data",
          "data": {
            "text/plain": [
              "<Figure size 1000x1000 with 6 Axes>"
            ],
            "image/png": "[encoded data removed]"
          },
          "metadata": {}
        }
      ]
    },
    {
      "cell_type": "markdown",
      "source": [
        "The dataset has lots of loans for people that dont make that much money and they also are not borrowing that much money either."
      ],
      "metadata": {
        "id": "CaemxVz4tUv_"
      }
    },
    {
      "cell_type": "code",
      "source": [
        "columns = [\"Gender\", \"Married\", \"Education\", \"Self_Employed\", \"Property_Area\"]\n",
        "categorical_features = set([\"Gender\", \"Married\", \"Self_Employed\", \"Property_Area\", \"Credit_History\"])\n",
        "\n",
        "fig, axes = plt.subplots(nrows=2, ncols=3, figsize=(15, 10))\n",
        "\n",
        "for i, column in enumerate(columns):\n",
        "  row_index = i // 3\n",
        "  col_index = i % 3\n",
        "  train_features_df[column].value_counts().plot(kind='bar', ax=axes[row_index, col_index])\n",
        "  axes[row_index, col_index].set_title(column)\n",
        "\n",
        "plt.tight_layout()\n",
        "plt.show()"
      ],
      "metadata": {
        "colab": {
          "base_uri": "https://localhost:8080/",
          "height": 755
        },
        "id": "D9_GAqP1tWEG",
        "outputId": "8a3bdad8-1457-47c2-c129-ee5b066a82a3"
      },
      "execution_count": 14,
      "outputs": [
        {
          "output_type": "display_data",
          "data": {
            "text/plain": [
              "<Figure size 1500x1000 with 6 Axes>"
            ],
            "image/png": "[encoded data removed]"
          },
          "metadata": {}
        }
      ]
    },
    {
      "cell_type": "markdown",
      "source": [
        "And here we have the counts for the categorical variables, looks like we have many more males taking out loans and more people who are married than not."
      ],
      "metadata": {
        "id": "btI6I7bbtbqs"
      }
    },
    {
      "cell_type": "markdown",
      "source": [
        "Now lets implement the Decision Tree model. \\\\\n",
        "The splitting criteria will be the gini index given by:\n",
        "$$Gini(p) = 1 - \\sum_{i=1}^{c}p_i^2$$\n",
        "where $c$ is the number of classes (2 for us), and $p_i$ is the proportion of examples that fall under the ith class"
      ],
      "metadata": {
        "id": "TixPpn7-tlWh"
      }
    },
    {
      "cell_type": "code",
      "source": [
        "def gini(p):\n",
        "  label_counts = p.value_counts()\n",
        "  probabilities = label_counts / p.shape[0]\n",
        "  return 1 - sum(probabilities ** 2)"
      ],
      "metadata": {
        "id": "XV2tSAkxtre2"
      },
      "execution_count": 15,
      "outputs": []
    },
    {
      "cell_type": "markdown",
      "source": [
        "First define a node in our decision tree"
      ],
      "metadata": {
        "id": "3PEkH5n3tt7W"
      }
    },
    {
      "cell_type": "code",
      "source": [
        "class Node:\n",
        "  def __init__(self, feature=None, threshold=None, values=None, left=None, right=None):\n",
        "    self.feature = feature\n",
        "    self.threshold = threshold\n",
        "    self.values = values\n",
        "    self.left = left\n",
        "    self.right = right\n",
        "\n",
        "  def is_leaf(self):\n",
        "    return self.label_counts is not None"
      ],
      "metadata": {
        "id": "1m4LlMJJtxuH"
      },
      "execution_count": 16,
      "outputs": []
    },
    {
      "cell_type": "markdown",
      "source": [
        "`feature` is the feature on which the node splits.\n",
        "\n",
        "`threshold` is the threshold for the node's split.\n",
        "\n",
        "`values`, for leaf nodes this will be the number of examples that have label 'Y' or 'N'.\n",
        "\n",
        "`left` and `right` are the left and right children of this Node"
      ],
      "metadata": {
        "id": "0kHc8kyatzGj"
      }
    },
    {
      "cell_type": "markdown",
      "source": [
        "And now lets write out the code for building the tree"
      ],
      "metadata": {
        "id": "uFC2_6kvt3QR"
      }
    },
    {
      "cell_type": "code",
      "source": [
        "class DecisionTree:\n",
        "  def __init__(self, num_features=None, max_depth=1000):\n",
        "    self.num_features = num_features\n",
        "    self.max_depth = max_depth\n",
        "    self.root = None"
      ],
      "metadata": {
        "id": "kKxr0Hsat05e"
      },
      "execution_count": 17,
      "outputs": []
    },
    {
      "cell_type": "markdown",
      "source": [
        "`num_features`is the number of features for our tree\n",
        "\n",
        "`max_depth` is the max depth we will allow the tree to grow to\n",
        "\n",
        "`root` is the root of the tree"
      ],
      "metadata": {
        "id": "VMYrzlFht52U"
      }
    },
    {
      "cell_type": "markdown",
      "source": [
        "To fit our model we just set the root to the node thats returned after we recursively split"
      ],
      "metadata": {
        "id": "95uTzViGt96g"
      }
    },
    {
      "cell_type": "code",
      "source": [
        "def fit(self, X, y):\n",
        "  self.root = self.grow_tree(X, y, depth=0)"
      ],
      "metadata": {
        "id": "pup5Nnezt7aq"
      },
      "execution_count": 18,
      "outputs": []
    },
    {
      "cell_type": "markdown",
      "source": [
        "`X` is the features, `y` is the labels"
      ],
      "metadata": {
        "id": "zz7sYPXSuB0D"
      }
    },
    {
      "cell_type": "code",
      "source": [
        "def grow_tree(self, X, y, depth):\n",
        "  # stop growing if we have reached max depth or only samples of 1 label left\n",
        "  if depth >= self.max_depth or y.nunqique() == 1:\n",
        "    return Node(values=y)\n",
        "\n",
        "  best_feature, best_threshold = self.best_split(X, y)\n",
        "  left_idxs, right_idxs = self.split(X, best_feature, best_threshold)\n",
        "\n",
        "  left = self.grow_tree(X[left_idxs, :], y[left_idxs, :], depth+1)\n",
        "  right = self.grow_tree(X[right_idxs, :], y[right_idxs, :], depth+1)\n",
        "  return Node(feature=best_feature, threshold=best_threshold, left=left, right=right)"
      ],
      "metadata": {
        "id": "K1-zZ9-_uAVw"
      },
      "execution_count": 19,
      "outputs": []
    },
    {
      "cell_type": "markdown",
      "source": [
        "We now need to implement the `best_split(X, y)` method to get the split for each decision in the tree"
      ],
      "metadata": {
        "id": "lMSxjh4fuFsl"
      }
    },
    {
      "cell_type": "code",
      "source": [
        "def best_split(self, X, y):\n",
        "  best_gain = -1\n",
        "  split_idx, split_thresh = None, None\n",
        "  for feature in X.columns:\n",
        "    X_column = X[feature]\n",
        "    for threshold in X_column.unique():\n",
        "      gini = self.information_gain(X, y, feature, threshold)\n",
        "      if gini > best_gain:\n",
        "        best_gain = gini\n",
        "        best_feature = feature\n",
        "        best_threshold = threshold\n",
        "  return best_feature, best_threshold"
      ],
      "metadata": {
        "id": "oRryDi8fuGtU"
      },
      "execution_count": 20,
      "outputs": []
    },
    {
      "cell_type": "markdown",
      "source": [
        "Just iterate through all the feature and all the possible split points and calculate the gini index, chosing the min of these as the best split. Now for the actual calculation in `information_gain(X, y, feature, threshold)` \\\\\n",
        "\n",
        "for this we will use\n",
        "\n",
        "$$ Gini Gain = Gini_{Parent} - \\sum_{children} Weight_{child} * Gini_{Child} $$"
      ],
      "metadata": {
        "id": "0Gq05ctiuIa1"
      }
    },
    {
      "cell_type": "code",
      "source": [
        "def information_gain(self, X, y, feature, threshold):\n",
        "  categorical_features = set([\"Gender\", \"Married\", \"Self_Employed\", \"Property_Area\", \"Credit_History\"])\n",
        "  left_idxs, right_idxs = self.split(X, feature, threshold)\n",
        "\n",
        "  num_samples = X.shape[0]\n",
        "  left_proportion, right_proportion = left_idxs.shape[0] / num_samples, right_idxs.shape[0] / num_samples\n",
        "\n",
        "  gini_parent = gini(y)\n",
        "  gini_children = left_proportion * gini(y[left_idxs, :]) + right_proportion * gini(y[right_idxs, :])\n",
        "\n",
        "  return gini_parent - gini_children"
      ],
      "metadata": {
        "id": "H92sFLrCuKso"
      },
      "execution_count": 21,
      "outputs": []
    },
    {
      "cell_type": "markdown",
      "source": [
        "Now for the `split(X, feature, threshold)` function we have been showing to divide the dataset \\\\\n",
        "Note that some of our features are categorical and some are continuous so we must be weary of that when splitting"
      ],
      "metadata": {
        "id": "V8x_QJV-uPg0"
      }
    },
    {
      "cell_type": "code",
      "source": [
        "def split(self, X, feature, threshold):\n",
        "  if feature in categorical_features:\n",
        "    left_idxs = X[X[feature] == threshold].index\n",
        "    right_idxs = X[X[feature] != threshold].index\n",
        "  else:\n",
        "    left_idxs = X[X[feature] >= threshold].index\n",
        "    right_idxs = X[X[feature] < threshold].index\n",
        "\n",
        "  return left_idxs, right_idxs"
      ],
      "metadata": {
        "id": "JJoOj-rEuN8f"
      },
      "execution_count": 22,
      "outputs": []
    },
    {
      "cell_type": "markdown",
      "source": [
        "Lastly we will want to be able to get our trees prediction so lets implement a `predict(self, X)` method to traverse the tree"
      ],
      "metadata": {
        "id": "wz-MyKwouTX_"
      }
    },
    {
      "cell_type": "code",
      "source": [
        "import numpy as np\n",
        "\n",
        "def predict(self, X):\n",
        "  return np.array([self.get_prediction(x, self.root) for x in X])\n",
        "\n",
        "def get_prediction(self, x, node):\n",
        "  if node.is_leaf:\n",
        "    return node.values.value_counts(normalize=True).get('Y', 0.0)\n",
        "\n",
        "  if node.feature in categorical_features:\n",
        "    if x[node.feature] == node.threshold:\n",
        "      return self.get_prediction(x, node.left)\n",
        "    else:\n",
        "      return self.get_prediction(x, node.right)\n",
        "\n",
        "  if x[node.feature] >= node.threshold:\n",
        "    return self.get_prediction(x, node.left)\n",
        "  else:\n",
        "    return self.get_prediction(x, node.right)"
      ],
      "metadata": {
        "id": "QVIgsmFzuTuC"
      },
      "execution_count": 23,
      "outputs": []
    },
    {
      "cell_type": "markdown",
      "source": [
        "For each leaf node I am returning the proportion of 'Y' examples as a probabilty so I can make an ROC curve later on\n",
        "\n",
        "Putting all this together we have our Decision Tree Model"
      ],
      "metadata": {
        "id": "sJV1WRDnuWTY"
      }
    },
    {
      "cell_type": "code",
      "source": [
        "import numpy as np\n",
        "\n",
        "def gini(p):\n",
        "  label_counts = p.value_counts()\n",
        "  probabilities = label_counts / p.shape[0]\n",
        "  return 1 - sum(probabilities ** 2)\n",
        "\n",
        "class DecisionTree:\n",
        "  def __init__(self, num_features=None, max_depth=1000):\n",
        "    self.num_features = num_features\n",
        "    self.max_depth = max_depth\n",
        "    self.root = None\n",
        "\n",
        "  def fit(self, X, y):\n",
        "    self.root = self.grow_tree(X, y, depth=0)\n",
        "\n",
        "  def grow_tree(self, X, y, depth):\n",
        "    # stop growing if we have reached max depth or only samples of 1 label left\n",
        "    if depth >= self.max_depth or y.nunqique() == 1:\n",
        "      return Node(values=y)\n",
        "\n",
        "    best_feature, best_threshold = self.best_split(X, y)\n",
        "    left_idxs, right_idxs = self.split(X, best_feature, best_threshold)\n",
        "\n",
        "    left = self.grow_tree(X[left_idxs, :], y[left_idxs, :], depth+1)\n",
        "    right = self.grow_tree(X[right_idxs, :], y[right_idxs, :], depth+1)\n",
        "    return Node(feature=best_feature, threshold=best_threshold, left=left, right=right)\n",
        "\n",
        "  def best_split(self, X, y):\n",
        "    best_gain = -1\n",
        "    split_idx, split_thresh = None, None\n",
        "    for feature in X.columns:\n",
        "      X_column = X[feature]\n",
        "      for threshold in X_column.unique():\n",
        "        gini = self.information_gain(X, y, feature, threshold)\n",
        "        if gini > best_gain:\n",
        "          best_gain = gini\n",
        "          best_feature = feature\n",
        "          best_threshold = threshold\n",
        "    return best_feature, best_threshold\n",
        "\n",
        "  def information_gain(self, X, y, feature, threshold):\n",
        "    categorical_features = set([\"Gender\", \"Married\", \"Self_Employed\", \"Property_Area\", \"Credit_History\"])\n",
        "    left_idxs, right_idxs = self.split(X, feature, threshold)\n",
        "\n",
        "    num_samples = X.shape[0]\n",
        "    left_proportion, right_proportion = left_idxs.shape[0] / num_samples, right_idxs.shape[0] / num_samples\n",
        "\n",
        "    gini_parent = gini(y)\n",
        "    gini_children = left_proportion * gini(y[left_idxs, :]) + right_proportion * gini(y[right_idxs, :])\n",
        "\n",
        "    return gini_parent - gini_children\n",
        "\n",
        "  def split(self, X, feature, threshold):\n",
        "    if feature in categorical_features:\n",
        "      left_idxs = X[X[feature] == threshold].index\n",
        "      right_idxs = X[X[feature] != threshold].index\n",
        "    else:\n",
        "      left_idxs = X[X[feature] >= threshold].index\n",
        "      right_idxs = X[X[feature] < threshold].index\n",
        "\n",
        "    return left_idxs, right_idxs\n",
        "\n",
        "  def predict(self, X):\n",
        "    return np.array([self.get_prediction(x, self.root) for x in X])\n",
        "\n",
        "  def get_prediction(self, x, node):\n",
        "    if node.is_leaf:\n",
        "      return node.values.value_counts(normalize=True).get('Y', 0.0)\n",
        "\n",
        "    if node.feature in categorical_features:\n",
        "      if x[node.feature] == node.threshold:\n",
        "        return self.get_prediction(x, node.left)\n",
        "      else:\n",
        "        return self.get_prediction(x, node.right)\n",
        "\n",
        "    if x[node.feature] >= node.threshold:\n",
        "      return self.get_prediction(x, node.left)\n",
        "    else:\n",
        "      return self.get_prediction(x, node.right)"
      ],
      "metadata": {
        "id": "0qt_dJ7puYkQ"
      },
      "execution_count": 24,
      "outputs": []
    }
  ]
}